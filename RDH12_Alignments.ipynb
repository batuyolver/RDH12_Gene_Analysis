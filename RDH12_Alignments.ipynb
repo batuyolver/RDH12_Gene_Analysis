{
 "cells": [
  {
   "cell_type": "code",
   "execution_count": 3,
   "id": "074b5eb9",
   "metadata": {},
   "outputs": [],
   "source": [
    "import Bio\n",
    "import re\n",
    "from Bio.Seq import Seq\n",
    "from Bio import SeqIO\n",
    "from Bio import pairwise2\n",
    "from Bio.pairwise2 import format_alignment"
   ]
  },
  {
   "cell_type": "markdown",
   "id": "a9fc19ac",
   "metadata": {},
   "source": [
    "## Global and Local Alignments for rdh12 protein and their ORFs "
   ]
  },
  {
   "cell_type": "code",
   "execution_count": 5,
   "id": "d9fce445",
   "metadata": {},
   "outputs": [],
   "source": [
    "rdh12_protein= \"MLVTLGLLTSFFSFLYMVAPSIRKFFAGGVCRTNVQLPGKVVVITGANTGIGKETARELASRGARVYIACRDVLKGESAASEIRVDTKNSQVLVRKLDLSDTKSIRAFAEGFLADEVLMEEKQLHILINNAGVMMCPYSKTADGFETHLGVNHLGHFLLTYLLLERLKVSAPARVVNVSSVAHHIGKIPFHDLQSEKRYSRGFAYCHSKLANVLFTRELAKRLQGTGVTTYAVHPGVVRSELVRHSSLLCLLWRLFSPFVKTAREGAQTSLHCALAEGLEPLSGKYFSDCKRTWVSPRARNNKTAERLWNVSCELLGIRWE\""
   ]
  },
  {
   "cell_type": "code",
   "execution_count": 6,
   "id": "00682c4b",
   "metadata": {},
   "outputs": [
    {
     "name": "stdout",
     "output_type": "stream",
     "text": [
      "MLVTLGLLTSFFSFLYMVAPSIRKFFAGGVCRTNVQLPGKVVVITGANTGIGKETARELASRGARVYIACRDVLKGESAASEIRVDTKNSQVLVRKLDLSDTKSIRAFAEGFLADEVLMEEKQLHILINNAGVMMCPYSKTADGFETHLGVNHLGHFLLTYLLLERLKVSAPARVVNVSSVAHHIGKIPFHDLQSEKRYSRGFAYCHSKLANVLFTRELAKRLQGTGVTTYAVHPGVVRSELVRHSSLLCLLWRLFSPFVKTAREGAQTSLHCALAEGLEPLSGKYFSDCKRTWVSPRARNNKTAERLWNVSCELLGIRWE\n"
     ]
    }
   ],
   "source": [
    "print(rdh12_protein)"
   ]
  },
  {
   "cell_type": "code",
   "execution_count": 7,
   "id": "3767814e",
   "metadata": {},
   "outputs": [],
   "source": [
    "ORFs_sequence1= Seq(\"AUGUCCAGCAGGAAGCCAGGAACACAUAAUCUCUGCUCGCCCGGAGUUCAUGGACUGUCAGAGAAGACCUUAAAUAAGUAA\")"
   ]
  },
  {
   "cell_type": "code",
   "execution_count": 9,
   "id": "3263383a",
   "metadata": {},
   "outputs": [],
   "source": [
    "ORFs_protein1= ORFs_sequence1.translate()"
   ]
  },
  {
   "cell_type": "code",
   "execution_count": 10,
   "id": "1680c21b",
   "metadata": {},
   "outputs": [],
   "source": [
    "ORFs_sequence2= Seq(\"AUGGACUGUCAGAGAAGACCUUAA\")\n",
    "ORFs_protein2= ORFs_sequence2.translate()"
   ]
  },
  {
   "cell_type": "code",
   "execution_count": 11,
   "id": "da9e20e5",
   "metadata": {},
   "outputs": [],
   "source": [
    "ORFs_sequence3= Seq(\"AUGAGGAGGAUUAGAGAAAGCUCUGGGAGCUUUUACAAGGGAGAGGAGUUCUAG\")\n",
    "ORFs_protein3= ORFs_sequence3.translate()"
   ]
  },
  {
   "cell_type": "code",
   "execution_count": 12,
   "id": "151cf6af",
   "metadata": {},
   "outputs": [],
   "source": [
    "ORFs_sequence4= Seq(\"AUGGCAAUAAUAGCCAGUGCUUAA\")\n",
    "ORFs_protein4= ORFs_sequence4.translate()"
   ]
  },
  {
   "cell_type": "code",
   "execution_count": 13,
   "id": "0f704a24",
   "metadata": {},
   "outputs": [
    {
     "name": "stdout",
     "output_type": "stream",
     "text": [
      "MDCQRRP*\n",
      "MRRIRESSGSFYKGEEF*\n",
      "MAIIASA*\n"
     ]
    }
   ],
   "source": [
    "print(ORFs_protein2)\n",
    "print(ORFs_protein3)\n",
    "print(ORFs_protein4)"
   ]
  },
  {
   "cell_type": "code",
   "execution_count": 15,
   "id": "d5701d90",
   "metadata": {},
   "outputs": [],
   "source": [
    "# Global Alignment \n",
    "alignments1= pairwise2.align.globalxx(rdh12_protein,ORFs_protein1)\n",
    "alignments2= pairwise2.align.globalxx(rdh12_protein,ORFs_protein2)\n",
    "alignments3= pairwise2.align.globalxx(rdh12_protein,ORFs_protein3)\n",
    "alignments4= pairwise2.align.globalxx(rdh12_protein,ORFs_protein4)"
   ]
  },
  {
   "cell_type": "code",
   "execution_count": 16,
   "id": "ffc2912a",
   "metadata": {},
   "outputs": [
    {
     "name": "stdout",
     "output_type": "stream",
     "text": [
      "[Alignment(seqA='MLVTLGLLTSFFSFLYMVAPSIRKFFAGGVCRTNVQLPGKVVVITGA-NTGIGKETARELASRGARVYIACRDVLKGESAASEIRVDTKNSQVLVRKLDLSDTKSIRAFAEGFLADEVLMEEKQLHILINNAGVMMCPYSKTADGFETHLGVNHLGHFLLTYLLLERLKVSAPARVVNVSSVAHHIGKIPFHDLQSEKRYSRGFAYCHSKLANVLFTRELAKRLQGTGVTTYAVHPGVVRSELVRHSSLLCLLWRLFSPFVKTAREGAQTSLHCALAEGLEPLSGKYFSDCKRTWVSPRARNNKTAERLWNVSCELLGIRWE-', seqB='M-----------S-------S-RK-------------PG-----T--HN----------L----------C---------------------------------S--------------------------------P-----------------G-------------------------V---------H----------G--------------------L----------------SE-------------------K-------T------------L-------------------NK------------------*', score=25.0, start=0, end=323)]\n",
      "[Alignment(seqA='MLVTLGLLTSFFSFLYMVAPSIRKFFAGGVCRTNVQLPGKVVVITGANTGIGKETARELASRGARVYIACRDVLKGESAASEIRVDTKNSQVLVRKLDLSDTKSIRAFAEGFLADEVLMEEKQLHILINNAGVMMCPYSKTADGFETHLGVNHLGHFLLTYLLLERLKVSAPARVVNVSSVAHHIGKIPFHDLQSEKRYSRGFAYCHSKLANVLFTRELAKRLQGTGVTTYAVHPGVVRSELVRHSSLLCLLWRLFSPFVKTAREGAQTSLHCALAEGLEPLSGKYFSDCKRTWVSPRARNNKTAERLWNVSCELLGIRWE-', seqB='--------------------------------------------------------------------------------------------------------------------------------------M--------------------------------------------------------D-------------C-----------------Q---------------------------------------R---------------------------R----P------------------------*', score=7.0, start=0, end=322), Alignment(seqA='MLVTLGLLTSFFSFLYMVAPSIRKFFAGGVCRTNVQLPGKVVVITGANTGIGKETARELASRGARVYIACRDVLKGESAASEIRVDTKNSQVLVRKLDLSDTKSIRAFAEGFLADEVLMEEKQLHILINNAGVMMCPYSKTADGFETHLGVNHLGHFLLTYLLLERLKVSAPARVVNVSSVAHHIGKIPFHDLQSEKRYSRGFAYCHSKLANVLFTRELAKRLQGTGVTTYAVHPGVVRSELVRHSSLLCLLWRLFSPFVKTAREGAQTSLHCALAEGLEPLSGKYFSDCKRTWVSPRARNNKTAERLWNVSCELLGIRWE-', seqB='-------------------------------------------------------------------------------------------------------------------------------------M---------------------------------------------------------D-------------C-----------------Q---------------------------------------R---------------------------R----P------------------------*', score=7.0, start=0, end=322), Alignment(seqA='MLVTLGLLTSFFSFLYMVAPSIRKFFAGGVCRTNVQLPGKVVVITGANTGIGKETARELASRGARVYIACRDVLKGESAASEIRVDTKNSQVLVRKLDLSDTKSIRAFAEGFLADEVLMEEKQLHILINNAGVMMCPYSKTADGFETHLGVNHLGHFLLTYLLLERLKVSAPARVVNVSSVAHHIGKIPFHDLQSEKRYSRGFAYCHSKLANVLFTRELAKRLQGTGVTTYAVHPGVVRSELVRHSSLLCLLWRLFSPFVKTAREGAQTSLHCALAEGLEPLSGKYFSDCKRTWVSPRARNNKTAERLWNVSCELLGIRWE-', seqB='----------------------------------------------------------------------------------------------------------------------M------------------------------------------------------------------------D-------------C-----------------Q---------------------------------------R---------------------------R----P------------------------*', score=7.0, start=0, end=322), Alignment(seqA='MLVTLGLLTSFFSFLYMVAPSIRKFFAGGVCRTNVQLPGKVVVITGANTGIGKETARELASRGARVYIACRDVLKGESAASEIRVDTKNSQVLVRKLDLSDTKSIRAFAEGFLADEVLMEEKQLHILINNAGVMMCPYSKTADGFETHLGVNHLGHFLLTYLLLERLKVSAPARVVNVSSVAHHIGKIPFHDLQSEKRYSRGFAYCHSKLANVLFTRELAKRLQGTGVTTYAVHPGVVRSELVRHSSLLCLLWRLFSPFVKTAREGAQTSLHCALAEGLEPLSGKYFSDCKRTWVSPRARNNKTAERLWNVSCELLGIRWE-', seqB='----------------M------------------------------------------------------------------------------------------------------------------------------------------------------------------------------D-------------C-----------------Q---------------------------------------R---------------------------R----P------------------------*', score=7.0, start=0, end=322), Alignment(seqA='MLVTLGLLTSFFSFLYMVAPSIRKFFAGGVCRTNVQLPGKVVVITGANTGIGKETARELASRGARVYIACRDVLKGESAASEIRVDTKNSQVLVRKLDLSDTKSIRAFAEGFLADEVLMEEKQLHILINNAGVMMCPYSKTADGFETHLGVNHLGHFLLTYLLLERLKVSAPARVVNVSSVAHHIGKIPFHDLQSEKRYSRGFAYCHSKLANVLFTRELAKRLQGTGVTTYAVHPGVVRSELVRHSSLLCLLWRLFSPFVKTAREGAQTSLHCALAEGLEPLSGKYFSDCKRTWVSPRARNNKTAERLWNVSCELLGIRWE-', seqB='M----------------------------------------------------------------------------------------------------------------------------------------------------------------------------------------------D-------------C-----------------Q---------------------------------------R---------------------------R----P------------------------*', score=7.0, start=0, end=322)]\n",
      "[Alignment(seqA='MLVTLGLLTSFFSFLYMVAPSIRKFFAGGVCRTNVQLPGKVVVITGANTGIGKETARELASRGARVYIACRDVLKGESAASEIRVDTKNSQVLVRKLDLSDTKSIRAFAEGFLADEVLMEEKQLHILINNAGVMMCPYSKTADGFETHLGVNHLGHFLLTYLLLERLKVSAPARVVNVSSVAHHIGKIPFHDLQSEKRYSRGFAYCHSKLANVLFTRELAKRLQGTGVTTYAVHPGVVRSELVRHSSLLCLLWRLFSPFVKTAREGAQTSLHCALAEGLEPLSGKYFSDCKRTWVSPRARNNKTAERLWNVSCELLGIRWE-', seqB='----------------M------------------------------------------------------------------R----------R---------IR----------------------------------------------------------E-----------------------------S----S-G-----S------F---------------Y-----------------------------K----G----------E--E------F----------------------------------*', score=17.0, start=0, end=322), Alignment(seqA='MLVTLGLLTSFFSFLYMVAPSIRKFFAGGVCRTNVQLPGKVVVITGANTGIGKETARELASRGARVYIACRDVLKGESAASEIRVDTKNSQVLVRKLDLSDTKSIRAFAEGFLADEVLMEEKQLHILINNAGVMMCPYSKTADGFETHLGVNHLGHFLLTYLLLERLKVSAPARVVNVSSVAHHIGKIPFHDLQSEKRYSRGFAYCHSKLANVLFTRELAKRLQGTGVTTYAVHPGVVRSELVRHSSLLCLLWRLFSPFVKTAREGAQTSLHCALAEGLEPLSGKYFSDCKRTWVSPRARNNKTAERLWNVSCELLGIRWE-', seqB='M----------------------------------------------------------------------------------R----------R---------IR----------------------------------------------------------E-----------------------------S----S-G-----S------F---------------Y-----------------------------K----G----------E--E------F----------------------------------*', score=17.0, start=0, end=322)]\n",
      "[Alignment(seqA='MLVTLGLLTSFFSFLYMVAPSIRKFFAGGVCRTNVQLPGKVVVITGANTGIGKETARELASRGARVYIACRDVLKGESAASEIRVDTKNSQVLVRKLDLSDTKSIRAFAEGFLADEVLMEEKQLHILINNAGVMMCPYSKTADGFETHLGVNHLGHFLLTYLLLERLKVSAPARVVNVSSVAHHIGKIPFHDLQSEKRYSRGFAYCHSKLANVLFTRELAKRLQGTGVTTYAVHPGVVRSELVRHSSLLCLLWRLFSPFVKTAREGAQTSLHCALAEGLEPLSGKYFSDCKRTWVSPRARNNKTAERLWNVSCELLGIRWE-', seqB='--------------------------------------------------------------------------------------------------------------------------------------M----------------------------------------------A--I--I---------------------------------------------------------------------------------------A-------------------S--------A----------------*', score=7.0, start=0, end=322), Alignment(seqA='MLVTLGLLTSFFSFLYMVAPSIRKFFAGGVCRTNVQLPGKVVVITGANTGIGKETARELASRGARVYIACRDVLKGESAASEIRVDTKNSQVLVRKLDLSDTKSIRAFAEGFLADEVLMEEKQLHILINNAGVMMCPYSKTADGFETHLGVNHLGHFLLTYLLLERLKVSAPARVVNVSSVAHHIGKIPFHDLQSEKRYSRGFAYCHSKLANVLFTRELAKRLQGTGVTTYAVHPGVVRSELVRHSSLLCLLWRLFSPFVKTAREGAQTSLHCALAEGLEPLSGKYFSDCKRTWVSPRARNNKTAERLWNVSCELLGIRWE-', seqB='-------------------------------------------------------------------------------------------------------------------------------------M-----------------------------------------------A--I--I---------------------------------------------------------------------------------------A-------------------S--------A----------------*', score=7.0, start=0, end=322), Alignment(seqA='MLVTLGLLTSFFSFLYMVAPSIRKFFAGGVCRTNVQLPGKVVVITGANTGIGKETARELASRGARVYIACRDVLKGESAASEIRVDTKNSQVLVRKLDLSDTKSIRAFAEGFLADEVLMEEKQLHILINNAGVMMCPYSKTADGFETHLGVNHLGHFLLTYLLLERLKVSAPARVVNVSSVAHHIGKIPFHDLQSEKRYSRGFAYCHSKLANVLFTRELAKRLQGTGVTTYAVHPGVVRSELVRHSSLLCLLWRLFSPFVKTAREGAQTSLHCALAEGLEPLSGKYFSDCKRTWVSPRARNNKTAERLWNVSCELLGIRWE-', seqB='----------------------------------------------------------------------------------------------------------------------M--------------------------------------------------------------A--I--I---------------------------------------------------------------------------------------A-------------------S--------A----------------*', score=7.0, start=0, end=322), Alignment(seqA='MLVTLGLLTSFFSFLYMVAPSIRKFFAGGVCRTNVQLPGKVVVITGANTGIGKETARELASRGARVYIACRDVLKGESAASEIRVDTKNSQVLVRKLDLSDTKSIRAFAEGFLADEVLMEEKQLHILINNAGVMMCPYSKTADGFETHLGVNHLGHFLLTYLLLERLKVSAPARVVNVSSVAHHIGKIPFHDLQSEKRYSRGFAYCHSKLANVLFTRELAKRLQGTGVTTYAVHPGVVRSELVRHSSLLCLLWRLFSPFVKTAREGAQTSLHCALAEGLEPLSGKYFSDCKRTWVSPRARNNKTAERLWNVSCELLGIRWE-', seqB='----------------M--------------------------------------------------------------------------------------------------------------------------------------------------------------------A--I--I---------------------------------------------------------------------------------------A-------------------S--------A----------------*', score=7.0, start=0, end=322), Alignment(seqA='MLVTLGLLTSFFSFLYMVAPSIRKFFAGGVCRTNVQLPGKVVVITGANTGIGKETARELASRGARVYIACRDVLKGESAASEIRVDTKNSQVLVRKLDLSDTKSIRAFAEGFLADEVLMEEKQLHILINNAGVMMCPYSKTADGFETHLGVNHLGHFLLTYLLLERLKVSAPARVVNVSSVAHHIGKIPFHDLQSEKRYSRGFAYCHSKLANVLFTRELAKRLQGTGVTTYAVHPGVVRSELVRHSSLLCLLWRLFSPFVKTAREGAQTSLHCALAEGLEPLSGKYFSDCKRTWVSPRARNNKTAERLWNVSCELLGIRWE-', seqB='M------------------------------------------------------------------------------------------------------------------------------------------------------------------------------------A--I--I---------------------------------------------------------------------------------------A-------------------S--------A----------------*', score=7.0, start=0, end=322)]\n"
     ]
    }
   ],
   "source": [
    "print(alignments1)\n",
    "print(alignments2)\n",
    "print(alignments3)\n",
    "print(alignments4)"
   ]
  },
  {
   "cell_type": "code",
   "execution_count": 17,
   "id": "8dc6eb7c",
   "metadata": {},
   "outputs": [],
   "source": [
    "# Local Alignments\n",
    "AvB= pairwise2.align.localxx(rdh12_protein,ORFs_protein1)\n",
    "AvC= pairwise2.align.localxx(rdh12_protein,ORFs_protein2)\n",
    "AvD= pairwise2.align.localxx(rdh12_protein,ORFs_protein3)\n",
    "AvE= pairwise2.align.localxx(rdh12_protein,ORFs_protein4)"
   ]
  },
  {
   "cell_type": "code",
   "execution_count": 19,
   "id": "2a4917ea",
   "metadata": {},
   "outputs": [
    {
     "name": "stdout",
     "output_type": "stream",
     "text": [
      "[Alignment(seqA='MLVTLGLLTSFFSFLYMVAPSIRKFFAGGVCRTNVQLPGKVVVITGA-NTGIGKETARELASRGARVYIACRDVLKGESAASEIRVDTKNSQVLVRKLDLSDTKSIRAFAEGFLADEVLMEEKQLHILINNAGVMMCPYSKTADGFETHLGVNHLGHFLLTYLLLERLKVSAPARVVNVSSVAHHIGKIPFHDLQSEKRYSRGFAYCHSKLANVLFTRELAKRLQGTGVTTYAVHPGVVRSELVRHSSLLCLLWRLFSPFVKTAREGAQTSLHCALAEGLEPLSGKYFSDCKRTWVSPRARNNKTAERLWNVSCELLGIRWE', seqB='M-----------S-------S-RK-------------PG-----T--HN----------L----------C---------------------------------S--------------------------------P-----------------G-------------------------V---------H----------G--------------------L----------------SE-------------------K-------T------------L-------------------NK*-----------------', score=25.0, start=0, end=304)]\n",
      "Alignment(seqA='MLVTLGLLTSFFSFLYMVAPSIRKFFAGGVCRTNVQLPGKVVVITGANTGIGKETARELASRGARVYIACRDVLKGESAASEIRVDTKNSQVLVRKLDLSDTKSIRAFAEGFLADEVLMEEKQLHILINNAGVMMCPYSKTADGFETHLGVNHLGHFLLTYLLLERLKVSAPARVVNVSSVAHHIGKIPFHDLQSEKRYSRGFAYCHSKLANVLFTRELAKRLQGTGVTTYAVHPGVVRSELVRHSSLLCLLWRLFSPFVKTAREGAQTSLHCALAEGLEPLSGKYFSDCKRTWVSPRARNNKTAERLWNVSCELLGIRWE', seqB='--------------------------------------------------------------------------------------------------------------------------------------M--------------------------------------------------------D-------------C-----------------Q---------------------------------------R---------------------------R----P*-----------------------', score=7.0, start=134, end=297)\n",
      "Alignment(seqA='MLVTLGLLTSFFSFLYMVAPSIRKFFAGGVCRTNVQLPGKVVVITGANTGIGKETARELASRGARVYIACRDVLKGESAASEIRVDTKNSQVLVRKLDLSDTKSIRAFAEGFLADEVLMEEKQLHILINNAGVMMCPYSKTADGFETHLGVNHLGHFLLTYLLLERLKVSAPARVVNVSSVAHHIGKIPFHDLQSEKRYSRGFAYCHSKLANVLFTRELAKRLQGTGVTTYAVHPGVVRSELVRHSSLLCLLWRLFSPFVKTAREGAQTSLHCALAEGLEPLSGKYFSDCKRTWVSPRARNNKTAERLWNVSCELLGIRWE', seqB='----------------M------------------------------------------------------------------R----------R---------IR----------------------------------------------------------E-----------------------------S----S-G-----S------F---------------Y-----------------------------K----G----------E--E------F*---------------------------------', score=17.0, start=16, end=287)\n",
      "Alignment(seqA='MLVTLGLLTSFFSFLYMVAPSIRKFFAGGVCRTNVQLPGKVVVITGANTGIGKETARELASRGARVYIACRDVLKGESAASEIRVDTKNSQVLVRKLDLSDTKSIRAFAEGFLADEVLMEEKQLHILINNAGVMMCPYSKTADGFETHLGVNHLGHFLLTYLLLERLKVSAPARVVNVSSVAHHIGKIPFHDLQSEKRYSRGFAYCHSKLANVLFTRELAKRLQGTGVTTYAVHPGVVRSELVRHSSLLCLLWRLFSPFVKTAREGAQTSLHCALAEGLEPLSGKYFSDCKRTWVSPRARNNKTAERLWNVSCELLGIRWE', seqB='--------------------------------------------------------------------------------------------------------------------------------------M----------------------------------------------A--I--I---------------------------------------------------------------------------------------A-------------------S--------A*---------------', score=7.0, start=134, end=305)\n"
     ]
    }
   ],
   "source": [
    "print(AvB)\n",
    "print(AvC[0])\n",
    "print(AvD[0])\n",
    "print(AvE[0])"
   ]
  },
  {
   "cell_type": "code",
   "execution_count": null,
   "id": "3f81ff4a",
   "metadata": {},
   "outputs": [],
   "source": []
  }
 ],
 "metadata": {
  "kernelspec": {
   "display_name": "Python 3",
   "language": "python",
   "name": "python3"
  },
  "language_info": {
   "codemirror_mode": {
    "name": "ipython",
    "version": 3
   },
   "file_extension": ".py",
   "mimetype": "text/x-python",
   "name": "python",
   "nbconvert_exporter": "python",
   "pygments_lexer": "ipython3",
   "version": "3.8.8"
  }
 },
 "nbformat": 4,
 "nbformat_minor": 5
}
